{
 "cells": [
  {
   "cell_type": "code",
   "execution_count": 1,
   "metadata": {},
   "outputs": [
    {
     "name": "stdout",
     "output_type": "stream",
     "text": [
      "     ord_no  purch_amt  sale_amt\n",
      "0   70001.0     150.50     10.50\n",
      "1       NaN        NaN     20.65\n",
      "2   70002.0      65.26       NaN\n",
      "3   70004.0     110.50     11.50\n",
      "4       NaN     948.50     98.50\n",
      "5   70005.0        NaN       NaN\n",
      "6       NaN    5760.00     57.00\n",
      "7   70010.0    1983.43     19.43\n",
      "8   70003.0        NaN       NaN\n",
      "9   70012.0     250.45     25.45\n",
      "10      NaN      75.29     75.29\n",
      "11  70013.0    3045.60     35.60\n"
     ]
    }
   ],
   "source": [
    "#create a dataframe introduce some null values and use median or mode to replace those values\n",
    "\n",
    "import numpy as np\n",
    "import pandas as pd\n",
    "df = pd.DataFrame({\n",
    "'ord_no':[70001,np.nan,70002,70004,np.nan,70005,np.nan,70010,70003,70012,np.nan,70013],\n",
    "'purch_amt':[150.5,np.nan,65.26,110.5,948.5,np.nan,5760,1983.43,np.nan,250.45, 75.29,3045.6],\n",
    "'sale_amt':[10.5,20.65,np.nan,11.5,98.5,np.nan,57,19.43,np.nan,25.45, 75.29,35.6]})\n",
    "print(df)"
   ]
  },
  {
   "cell_type": "code",
   "execution_count": 3,
   "metadata": {},
   "outputs": [
    {
     "name": "stdout",
     "output_type": "stream",
     "text": [
      "     ord_no  purch_amt  sale_amt\n",
      "0   70001.0     150.50     10.50\n",
      "1       NaN        NaN     20.65\n",
      "2   70002.0      65.26     19.43\n",
      "3   70004.0     110.50     11.50\n",
      "4       NaN     948.50     98.50\n",
      "5   70005.0        NaN     35.60\n",
      "6       NaN    5760.00     57.00\n",
      "7   70010.0    1983.43     19.43\n",
      "8   70003.0        NaN     98.50\n",
      "9   70012.0     250.45     25.45\n",
      "10      NaN      75.29     75.29\n",
      "11  70013.0    3045.60     35.60\n"
     ]
    }
   ],
   "source": [
    "df['sale_amt'].fillna(df['sale_amt'].mode(), inplace=True)\n",
    "print(df)"
   ]
  },
  {
   "cell_type": "code",
   "execution_count": 4,
   "metadata": {},
   "outputs": [
    {
     "name": "stdout",
     "output_type": "stream",
     "text": [
      "     ord_no  purch_amt  sale_amt\n",
      "0   70001.0     150.50     10.50\n",
      "1       NaN      75.29     20.65\n",
      "2   70002.0      65.26     19.43\n",
      "3   70004.0     110.50     11.50\n",
      "4       NaN     948.50     98.50\n",
      "5   70005.0     948.50     35.60\n",
      "6       NaN    5760.00     57.00\n",
      "7   70010.0    1983.43     19.43\n",
      "8   70003.0    5760.00     98.50\n",
      "9   70012.0     250.45     25.45\n",
      "10      NaN      75.29     75.29\n",
      "11  70013.0    3045.60     35.60\n"
     ]
    }
   ],
   "source": [
    "df['purch_amt'].fillna(df['purch_amt'].mode(), inplace=True)\n",
    "print(df)"
   ]
  },
  {
   "cell_type": "code",
   "execution_count": 5,
   "metadata": {},
   "outputs": [
    {
     "name": "stdout",
     "output_type": "stream",
     "text": [
      "         Date   Event\n",
      "0   11/8/2011   Music\n",
      "1   11/9/2011  Poetry\n",
      "2  11/10/2011   Music\n",
      "3  11/11/2011  Comedy\n",
      "4  11/12/2011  Poetry\n"
     ]
    }
   ],
   "source": [
    "#Create a dataframe and add a column, add names in it using apply function to return names whose length is greater than 5\n",
    "import pandas as pd\n",
    "df = pd.DataFrame({'Date' : ['11/8/2011', '11/9/2011', '11/10/2011',\n",
    "                                        '11/11/2011', '11/12/2011'],\n",
    "                'Event' : ['Music', 'Poetry', 'Music', 'Comedy', 'Poetry']})\n",
    "  \n",
    "print(df)\n"
   ]
  },
  {
   "cell_type": "code",
   "execution_count": 6,
   "metadata": {},
   "outputs": [
    {
     "name": "stdout",
     "output_type": "stream",
     "text": [
      "   A  B  C\n",
      "0  5  0  3\n",
      "1  3  7  9\n",
      "2  3  5  2\n"
     ]
    }
   ],
   "source": [
    "#4.create a numpy array and a dataframe and concatenate them\n",
    "np.random.seed(0)\n",
    "df = pd.DataFrame(np.random.choice(10, (3, 3)), columns=list('ABC'))\n",
    "print(df)\n"
   ]
  },
  {
   "cell_type": "code",
   "execution_count": null,
   "metadata": {},
   "outputs": [],
   "source": [
    "#--->what is the difference between merging and joining in dataframe\n",
    "#Both join and merge can be used to combines two dataframes but the join method combines two \n",
    "# dataframes on the basis of their indexes whereas the merge method allows us\n",
    "# to specify columns beside the index to join on for both dataframes."
   ]
  }
 ],
 "metadata": {
  "kernelspec": {
   "display_name": "Python 3",
   "language": "python",
   "name": "python3"
  },
  "language_info": {
   "codemirror_mode": {
    "name": "ipython",
    "version": 3
   },
   "file_extension": ".py",
   "mimetype": "text/x-python",
   "name": "python",
   "nbconvert_exporter": "python",
   "pygments_lexer": "ipython3",
   "version": "3.7.4"
  }
 },
 "nbformat": 4,
 "nbformat_minor": 2
}
